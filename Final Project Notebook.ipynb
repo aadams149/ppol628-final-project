{
 "cells": [
  {
   "cell_type": "markdown",
   "id": "8ea4d1fc",
   "metadata": {},
   "source": [
    "# Alexander Adams\n",
    "\n",
    "# PPOL628 Text as Data\n",
    "\n",
    "# Final Project Notebook"
   ]
  },
  {
   "cell_type": "markdown",
   "id": "0ace01c7",
   "metadata": {},
   "source": [
    "I scraped tweets from several accounts. Each set of tweets is in its own .csv file, so the below code loads in each .csv and appends it to a list of dataframes, which is then concatenated into one pandas dataframe."
   ]
  },
  {
   "cell_type": "code",
   "execution_count": 1,
   "id": "37817691",
   "metadata": {},
   "outputs": [
    {
     "name": "stdout",
     "output_type": "stream",
     "text": [
      "Everything is up to date.\n"
     ]
    },
    {
     "name": "stderr",
     "output_type": "stream",
     "text": [
      "ERROR: failed to pull data from the cloud - config file error: no remote specified. Setup default remote with\n",
      "    dvc remote default <remote name>\n",
      "or use:\n",
      "    dvc pull -r <remote name>\n"
     ]
    }
   ],
   "source": [
    "#!dvc pull"
   ]
  },
  {
   "cell_type": "code",
   "execution_count": 8,
   "id": "db3beb2c",
   "metadata": {},
   "outputs": [],
   "source": [
    "import glob\n",
    "import os\n",
    "import pandas as pd\n",
    "pd.options.display.max_columns = None"
   ]
  },
  {
   "cell_type": "code",
   "execution_count": 24,
   "id": "63bba4a4",
   "metadata": {},
   "outputs": [],
   "source": [
    "data_full.to_csv('tweets.csv', index = False)"
   ]
  }
 ],
 "metadata": {
  "jupytext": {
   "formats": "ipynb,md"
  },
  "kernelspec": {
   "display_name": "Python 3",
   "language": "python",
   "name": "python3"
  },
  "language_info": {
   "codemirror_mode": {
    "name": "ipython",
    "version": 3
   },
   "file_extension": ".py",
   "mimetype": "text/x-python",
   "name": "python",
   "nbconvert_exporter": "python",
   "pygments_lexer": "ipython3",
   "version": "3.8.3"
  }
 },
 "nbformat": 4,
 "nbformat_minor": 5
}
