{
 "cells": [
  {
   "cell_type": "code",
   "execution_count": 3,
   "id": "bd35485c",
   "metadata": {},
   "outputs": [
    {
     "name": "stderr",
     "output_type": "stream",
     "text": [
      "C:\\Users\\alexi\\Anaconda3\\lib\\site-packages\\IPython\\core\\interactiveshell.py:3343: DtypeWarning: Columns (9) have mixed types.Specify dtype option on import or set low_memory=False.\n",
      "  exec(code_obj, self.user_global_ns, self.user_ns)\n",
      "C:\\Users\\alexi\\Anaconda3\\lib\\site-packages\\scipy\\sparse\\_index.py:124: SparseEfficiencyWarning: Changing the sparsity structure of a csr_matrix is expensive. lil_matrix is more efficient.\n",
      "  self._set_arrayXarray(i, j, x)\n"
     ]
    }
   ],
   "source": [
    "#Use TF-IDF embeddings to train topic model\n",
    "from bertopic import BERTopic\n",
    "import pandas as pd\n",
    "from sklearn.feature_extraction.text import TfidfVectorizer\n",
    "\n",
    "#Load in data\n",
    "df = pd.read_csv('tweets.csv')\n",
    "#Drop tweets not in english\n",
    "df = df.loc[df['language'] == 'en']\n",
    "docs = df['tweet']\n",
    "\n",
    "#Create vectorizer\n",
    "vectorizer = TfidfVectorizer(min_df=5)\n",
    "embeddings = vectorizer.fit_transform(docs)\n",
    "\n",
    "#Train our topic model using TF-IDF vectors\n",
    "topic_model = BERTopic()\n",
    "topics, probs = topic_model.fit_transform(docs, embeddings)\n",
    "\n",
    "#Save model\n",
    "topic_model.save('project_BERTopic')"
   ]
  }
 ],
 "metadata": {
  "kernelspec": {
   "display_name": "Python 3",
   "language": "python",
   "name": "python3"
  },
  "language_info": {
   "codemirror_mode": {
    "name": "ipython",
    "version": 3
   },
   "file_extension": ".py",
   "mimetype": "text/x-python",
   "name": "python",
   "nbconvert_exporter": "python",
   "pygments_lexer": "ipython3",
   "version": "3.8.3"
  }
 },
 "nbformat": 4,
 "nbformat_minor": 5
}
